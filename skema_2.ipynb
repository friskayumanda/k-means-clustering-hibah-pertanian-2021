{
  "nbformat": 4,
  "nbformat_minor": 0,
  "metadata": {
    "colab": {
      "provenance": []
    },
    "kernelspec": {
      "name": "python3",
      "display_name": "Python 3"
    },
    "language_info": {
      "name": "python"
    }
  },
  "cells": [
    {
      "cell_type": "code",
      "source": [
        "pip install pandas numpy seaborn matplotlib sklearn geopandas yellowbrick"
      ],
      "metadata": {
        "colab": {
          "base_uri": "https://localhost:8080/"
        },
        "id": "DdyqbeMSC_NX",
        "outputId": "db79142d-a98b-4efc-85e5-83baaa00d075"
      },
      "execution_count": null,
      "outputs": [
        {
          "output_type": "stream",
          "name": "stdout",
          "text": [
            "Looking in indexes: https://pypi.org/simple, https://us-python.pkg.dev/colab-wheels/public/simple/\n",
            "Requirement already satisfied: pandas in /usr/local/lib/python3.7/dist-packages (1.3.5)\n",
            "Requirement already satisfied: numpy in /usr/local/lib/python3.7/dist-packages (1.21.6)\n",
            "Requirement already satisfied: seaborn in /usr/local/lib/python3.7/dist-packages (0.11.2)\n",
            "Requirement already satisfied: matplotlib in /usr/local/lib/python3.7/dist-packages (3.2.2)\n",
            "Requirement already satisfied: sklearn in /usr/local/lib/python3.7/dist-packages (0.0)\n",
            "Requirement already satisfied: geopandas in /usr/local/lib/python3.7/dist-packages (0.10.2)\n",
            "Requirement already satisfied: yellowbrick in /usr/local/lib/python3.7/dist-packages (1.5)\n",
            "Requirement already satisfied: pytz>=2017.3 in /usr/local/lib/python3.7/dist-packages (from pandas) (2022.2.1)\n",
            "Requirement already satisfied: python-dateutil>=2.7.3 in /usr/local/lib/python3.7/dist-packages (from pandas) (2.8.2)\n",
            "Requirement already satisfied: six>=1.5 in /usr/local/lib/python3.7/dist-packages (from python-dateutil>=2.7.3->pandas) (1.15.0)\n",
            "Requirement already satisfied: scipy>=1.0 in /usr/local/lib/python3.7/dist-packages (from seaborn) (1.7.3)\n",
            "Requirement already satisfied: kiwisolver>=1.0.1 in /usr/local/lib/python3.7/dist-packages (from matplotlib) (1.4.4)\n",
            "Requirement already satisfied: cycler>=0.10 in /usr/local/lib/python3.7/dist-packages (from matplotlib) (0.11.0)\n",
            "Requirement already satisfied: pyparsing!=2.0.4,!=2.1.2,!=2.1.6,>=2.0.1 in /usr/local/lib/python3.7/dist-packages (from matplotlib) (3.0.9)\n",
            "Requirement already satisfied: typing-extensions in /usr/local/lib/python3.7/dist-packages (from kiwisolver>=1.0.1->matplotlib) (4.1.1)\n",
            "Requirement already satisfied: scikit-learn in /usr/local/lib/python3.7/dist-packages (from sklearn) (1.0.2)\n",
            "Requirement already satisfied: shapely>=1.6 in /usr/local/lib/python3.7/dist-packages (from geopandas) (1.8.4)\n",
            "Requirement already satisfied: fiona>=1.8 in /usr/local/lib/python3.7/dist-packages (from geopandas) (1.8.21)\n",
            "Requirement already satisfied: pyproj>=2.2.0 in /usr/local/lib/python3.7/dist-packages (from geopandas) (3.2.1)\n",
            "Requirement already satisfied: click-plugins>=1.0 in /usr/local/lib/python3.7/dist-packages (from fiona>=1.8->geopandas) (1.1.1)\n",
            "Requirement already satisfied: certifi in /usr/local/lib/python3.7/dist-packages (from fiona>=1.8->geopandas) (2022.6.15)\n",
            "Requirement already satisfied: cligj>=0.5 in /usr/local/lib/python3.7/dist-packages (from fiona>=1.8->geopandas) (0.7.2)\n",
            "Requirement already satisfied: munch in /usr/local/lib/python3.7/dist-packages (from fiona>=1.8->geopandas) (2.5.0)\n",
            "Requirement already satisfied: setuptools in /usr/local/lib/python3.7/dist-packages (from fiona>=1.8->geopandas) (57.4.0)\n",
            "Requirement already satisfied: click>=4.0 in /usr/local/lib/python3.7/dist-packages (from fiona>=1.8->geopandas) (7.1.2)\n",
            "Requirement already satisfied: attrs>=17 in /usr/local/lib/python3.7/dist-packages (from fiona>=1.8->geopandas) (22.1.0)\n",
            "Requirement already satisfied: threadpoolctl>=2.0.0 in /usr/local/lib/python3.7/dist-packages (from scikit-learn->sklearn) (3.1.0)\n",
            "Requirement already satisfied: joblib>=0.11 in /usr/local/lib/python3.7/dist-packages (from scikit-learn->sklearn) (1.1.0)\n"
          ]
        }
      ]
    },
    {
      "cell_type": "code",
      "execution_count": null,
      "metadata": {
        "id": "jr0aRq0ss-i0"
      },
      "outputs": [],
      "source": [
        "import numpy as np\n",
        "import seaborn as sns\n",
        "import pandas as pd\n",
        "import matplotlib.pyplot as plt\n",
        "from sklearn.cluster import KMeans, k_means\n",
        "from sklearn.preprocessing import StandardScaler\n",
        "from sklearn.decomposition import PCA\n",
        "from yellowbrick.cluster import KElbowVisualizer, SilhouetteVisualizer"
      ]
    },
    {
      "cell_type": "code",
      "source": [
        "### Import data from csv file\n",
        "data = pd.read_csv (r'/content/data.csv', sep=';', encoding='cp1252')   \n",
        "print (data.shape)\n",
        "data.tail()"
      ],
      "metadata": {
        "colab": {
          "base_uri": "https://localhost:8080/",
          "height": 427
        },
        "id": "NByJ_NBsiv-3",
        "outputId": "3c06db16-02b4-4660-97ba-d03c06fdc83f"
      },
      "execution_count": null,
      "outputs": [
        {
          "output_type": "stream",
          "name": "stdout",
          "text": [
            "(542, 15)\n"
          ]
        },
        {
          "output_type": "execute_result",
          "data": {
            "text/plain": [
              "                      daerah  lahan_2020  realisasi_belanja2020  kfd_category  \\\n",
              "537    Kota Pematang Siantar      2092.0           1.113306e+09             2   \n",
              "538             Kota Sibolga         NaN           3.572279e+10             1   \n",
              "539       Kota Tanjung Balai        74.0           2.735021e+10             1   \n",
              "540            Kota Tebing 4       485.0           5.822189e+10             2   \n",
              "541  Provinsi Sumatera Utara         NaN           0.000000e+00             2   \n",
              "\n",
              "       kfd  anggaran_belanja2021  realiasasi_dak2021  penyerapan_hibah_2019  \\\n",
              "537  0.704          9.933427e+09           245000000                   0.00   \n",
              "538  0.473          9.770757e+09           245000000                   0.00   \n",
              "539  0.397          5.753328e+09           245000000                   0.00   \n",
              "540  0.588          1.421100e+10           245000000                   0.00   \n",
              "541  0.294          0.000000e+00                   0                  96.12   \n",
              "\n",
              "     penyerapan_hibah_2020  realisasi_hibah_2020  alokasi_hibah_2021  \\\n",
              "537                   0.00                     0                   0   \n",
              "538                   0.00                     0                   0   \n",
              "539                   0.00                     0                   0   \n",
              "540                   0.00                     0                   0   \n",
              "541                  48.14           18870037351          7488570000   \n",
              "\n",
              "     A2021_MIN_A2020  ikp2021  ikp2020  ikp_growth  \n",
              "537              0.0    79.63    78.70        0.93  \n",
              "538              0.0    71.27    67.84        3.43  \n",
              "539              0.0    54.30    53.21        1.09  \n",
              "540              0.0    69.41    68.12        1.29  \n",
              "541            -80.9    72.25    71.84        0.41  "
            ],
            "text/html": [
              "\n",
              "  <div id=\"df-74a68cf0-975c-41de-a4df-315cfec40510\">\n",
              "    <div class=\"colab-df-container\">\n",
              "      <div>\n",
              "<style scoped>\n",
              "    .dataframe tbody tr th:only-of-type {\n",
              "        vertical-align: middle;\n",
              "    }\n",
              "\n",
              "    .dataframe tbody tr th {\n",
              "        vertical-align: top;\n",
              "    }\n",
              "\n",
              "    .dataframe thead th {\n",
              "        text-align: right;\n",
              "    }\n",
              "</style>\n",
              "<table border=\"1\" class=\"dataframe\">\n",
              "  <thead>\n",
              "    <tr style=\"text-align: right;\">\n",
              "      <th></th>\n",
              "      <th>daerah</th>\n",
              "      <th>lahan_2020</th>\n",
              "      <th>realisasi_belanja2020</th>\n",
              "      <th>kfd_category</th>\n",
              "      <th>kfd</th>\n",
              "      <th>anggaran_belanja2021</th>\n",
              "      <th>realiasasi_dak2021</th>\n",
              "      <th>penyerapan_hibah_2019</th>\n",
              "      <th>penyerapan_hibah_2020</th>\n",
              "      <th>realisasi_hibah_2020</th>\n",
              "      <th>alokasi_hibah_2021</th>\n",
              "      <th>A2021_MIN_A2020</th>\n",
              "      <th>ikp2021</th>\n",
              "      <th>ikp2020</th>\n",
              "      <th>ikp_growth</th>\n",
              "    </tr>\n",
              "  </thead>\n",
              "  <tbody>\n",
              "    <tr>\n",
              "      <th>537</th>\n",
              "      <td>Kota Pematang Siantar</td>\n",
              "      <td>2092.0</td>\n",
              "      <td>1.113306e+09</td>\n",
              "      <td>2</td>\n",
              "      <td>0.704</td>\n",
              "      <td>9.933427e+09</td>\n",
              "      <td>245000000</td>\n",
              "      <td>0.00</td>\n",
              "      <td>0.00</td>\n",
              "      <td>0</td>\n",
              "      <td>0</td>\n",
              "      <td>0.0</td>\n",
              "      <td>79.63</td>\n",
              "      <td>78.70</td>\n",
              "      <td>0.93</td>\n",
              "    </tr>\n",
              "    <tr>\n",
              "      <th>538</th>\n",
              "      <td>Kota Sibolga</td>\n",
              "      <td>NaN</td>\n",
              "      <td>3.572279e+10</td>\n",
              "      <td>1</td>\n",
              "      <td>0.473</td>\n",
              "      <td>9.770757e+09</td>\n",
              "      <td>245000000</td>\n",
              "      <td>0.00</td>\n",
              "      <td>0.00</td>\n",
              "      <td>0</td>\n",
              "      <td>0</td>\n",
              "      <td>0.0</td>\n",
              "      <td>71.27</td>\n",
              "      <td>67.84</td>\n",
              "      <td>3.43</td>\n",
              "    </tr>\n",
              "    <tr>\n",
              "      <th>539</th>\n",
              "      <td>Kota Tanjung Balai</td>\n",
              "      <td>74.0</td>\n",
              "      <td>2.735021e+10</td>\n",
              "      <td>1</td>\n",
              "      <td>0.397</td>\n",
              "      <td>5.753328e+09</td>\n",
              "      <td>245000000</td>\n",
              "      <td>0.00</td>\n",
              "      <td>0.00</td>\n",
              "      <td>0</td>\n",
              "      <td>0</td>\n",
              "      <td>0.0</td>\n",
              "      <td>54.30</td>\n",
              "      <td>53.21</td>\n",
              "      <td>1.09</td>\n",
              "    </tr>\n",
              "    <tr>\n",
              "      <th>540</th>\n",
              "      <td>Kota Tebing 4</td>\n",
              "      <td>485.0</td>\n",
              "      <td>5.822189e+10</td>\n",
              "      <td>2</td>\n",
              "      <td>0.588</td>\n",
              "      <td>1.421100e+10</td>\n",
              "      <td>245000000</td>\n",
              "      <td>0.00</td>\n",
              "      <td>0.00</td>\n",
              "      <td>0</td>\n",
              "      <td>0</td>\n",
              "      <td>0.0</td>\n",
              "      <td>69.41</td>\n",
              "      <td>68.12</td>\n",
              "      <td>1.29</td>\n",
              "    </tr>\n",
              "    <tr>\n",
              "      <th>541</th>\n",
              "      <td>Provinsi Sumatera Utara</td>\n",
              "      <td>NaN</td>\n",
              "      <td>0.000000e+00</td>\n",
              "      <td>2</td>\n",
              "      <td>0.294</td>\n",
              "      <td>0.000000e+00</td>\n",
              "      <td>0</td>\n",
              "      <td>96.12</td>\n",
              "      <td>48.14</td>\n",
              "      <td>18870037351</td>\n",
              "      <td>7488570000</td>\n",
              "      <td>-80.9</td>\n",
              "      <td>72.25</td>\n",
              "      <td>71.84</td>\n",
              "      <td>0.41</td>\n",
              "    </tr>\n",
              "  </tbody>\n",
              "</table>\n",
              "</div>\n",
              "      <button class=\"colab-df-convert\" onclick=\"convertToInteractive('df-74a68cf0-975c-41de-a4df-315cfec40510')\"\n",
              "              title=\"Convert this dataframe to an interactive table.\"\n",
              "              style=\"display:none;\">\n",
              "        \n",
              "  <svg xmlns=\"http://www.w3.org/2000/svg\" height=\"24px\"viewBox=\"0 0 24 24\"\n",
              "       width=\"24px\">\n",
              "    <path d=\"M0 0h24v24H0V0z\" fill=\"none\"/>\n",
              "    <path d=\"M18.56 5.44l.94 2.06.94-2.06 2.06-.94-2.06-.94-.94-2.06-.94 2.06-2.06.94zm-11 1L8.5 8.5l.94-2.06 2.06-.94-2.06-.94L8.5 2.5l-.94 2.06-2.06.94zm10 10l.94 2.06.94-2.06 2.06-.94-2.06-.94-.94-2.06-.94 2.06-2.06.94z\"/><path d=\"M17.41 7.96l-1.37-1.37c-.4-.4-.92-.59-1.43-.59-.52 0-1.04.2-1.43.59L10.3 9.45l-7.72 7.72c-.78.78-.78 2.05 0 2.83L4 21.41c.39.39.9.59 1.41.59.51 0 1.02-.2 1.41-.59l7.78-7.78 2.81-2.81c.8-.78.8-2.07 0-2.86zM5.41 20L4 18.59l7.72-7.72 1.47 1.35L5.41 20z\"/>\n",
              "  </svg>\n",
              "      </button>\n",
              "      \n",
              "  <style>\n",
              "    .colab-df-container {\n",
              "      display:flex;\n",
              "      flex-wrap:wrap;\n",
              "      gap: 12px;\n",
              "    }\n",
              "\n",
              "    .colab-df-convert {\n",
              "      background-color: #E8F0FE;\n",
              "      border: none;\n",
              "      border-radius: 50%;\n",
              "      cursor: pointer;\n",
              "      display: none;\n",
              "      fill: #1967D2;\n",
              "      height: 32px;\n",
              "      padding: 0 0 0 0;\n",
              "      width: 32px;\n",
              "    }\n",
              "\n",
              "    .colab-df-convert:hover {\n",
              "      background-color: #E2EBFA;\n",
              "      box-shadow: 0px 1px 2px rgba(60, 64, 67, 0.3), 0px 1px 3px 1px rgba(60, 64, 67, 0.15);\n",
              "      fill: #174EA6;\n",
              "    }\n",
              "\n",
              "    [theme=dark] .colab-df-convert {\n",
              "      background-color: #3B4455;\n",
              "      fill: #D2E3FC;\n",
              "    }\n",
              "\n",
              "    [theme=dark] .colab-df-convert:hover {\n",
              "      background-color: #434B5C;\n",
              "      box-shadow: 0px 1px 3px 1px rgba(0, 0, 0, 0.15);\n",
              "      filter: drop-shadow(0px 1px 2px rgba(0, 0, 0, 0.3));\n",
              "      fill: #FFFFFF;\n",
              "    }\n",
              "  </style>\n",
              "\n",
              "      <script>\n",
              "        const buttonEl =\n",
              "          document.querySelector('#df-74a68cf0-975c-41de-a4df-315cfec40510 button.colab-df-convert');\n",
              "        buttonEl.style.display =\n",
              "          google.colab.kernel.accessAllowed ? 'block' : 'none';\n",
              "\n",
              "        async function convertToInteractive(key) {\n",
              "          const element = document.querySelector('#df-74a68cf0-975c-41de-a4df-315cfec40510');\n",
              "          const dataTable =\n",
              "            await google.colab.kernel.invokeFunction('convertToInteractive',\n",
              "                                                     [key], {});\n",
              "          if (!dataTable) return;\n",
              "\n",
              "          const docLinkHtml = 'Like what you see? Visit the ' +\n",
              "            '<a target=\"_blank\" href=https://colab.research.google.com/notebooks/data_table.ipynb>data table notebook</a>'\n",
              "            + ' to learn more about interactive tables.';\n",
              "          element.innerHTML = '';\n",
              "          dataTable['output_type'] = 'display_data';\n",
              "          await google.colab.output.renderOutput(dataTable, element);\n",
              "          const docLink = document.createElement('div');\n",
              "          docLink.innerHTML = docLinkHtml;\n",
              "          element.appendChild(docLink);\n",
              "        }\n",
              "      </script>\n",
              "    </div>\n",
              "  </div>\n",
              "  "
            ]
          },
          "metadata": {},
          "execution_count": 30
        }
      ]
    },
    {
      "cell_type": "markdown",
      "source": [
        "Data Preprocessing : EDA & Data Cleaning"
      ],
      "metadata": {
        "id": "WJm4GRJUjG5E"
      }
    },
    {
      "cell_type": "code",
      "source": [
        "data = data[data['alokasi_hibah_2021']!= 0]\n",
        "print(data.head())"
      ],
      "metadata": {
        "colab": {
          "base_uri": "https://localhost:8080/"
        },
        "id": "TYEggVBg2fvO",
        "outputId": "27c379b0-d07b-461d-8ea3-70da6ef757ce"
      },
      "execution_count": null,
      "outputs": [
        {
          "output_type": "stream",
          "name": "stdout",
          "text": [
            "             daerah  lahan_2020  realisasi_belanja2020  kfd_category    kfd  \\\n",
            "2   Kab. Aceh Besar         NaN           2.000000e+16             3  0.986   \n",
            "9   Kab. Aceh Timur         NaN           0.000000e+00             3  0.836   \n",
            "10  Kab. Aceh Utara         NaN           1.130000e+16             3  1.015   \n",
            "12     Kab. Bireuen         NaN           1.700000e+16             3  0.928   \n",
            "23    Provinsi Aceh         NaN           1.220000e+17             2  0.303   \n",
            "\n",
            "    anggaran_belanja2021  realiasasi_dak2021  penyerapan_hibah_2019  \\\n",
            "2           6.357995e+10          1767480500                  97.01   \n",
            "9           0.000000e+00          1891704250                  76.53   \n",
            "10          4.344327e+10          1831875000                   0.00   \n",
            "12          3.707185e+10           332125000                  80.85   \n",
            "23          2.570000e+16                   0                  35.50   \n",
            "\n",
            "    penyerapan_hibah_2020  realisasi_hibah_2020  alokasi_hibah_2021  \\\n",
            "2                   97.37            8541595920          8244352000   \n",
            "9                   51.97            4584510994         11834328000   \n",
            "10                  31.30             210691469          4122896000   \n",
            "12                  94.98            5845413982         16681474000   \n",
            "23                  92.24            9702763713         11096797000   \n",
            "\n",
            "    A2021_MIN_A2020  ikp2021  ikp2020  ikp_growth  \n",
            "2             -6.02    83.09    83.99       -0.90  \n",
            "9             34.15    76.08    74.10        1.98  \n",
            "10           512.41    77.38    76.20        1.18  \n",
            "12           171.06    80.29    79.43        0.86  \n",
            "23             5.49    71.63    70.92        0.71  \n"
          ]
        }
      ]
    },
    {
      "cell_type": "code",
      "source": [
        "# Getting rid of non numerical data\n",
        "features = list(data.columns)[7:12]\n",
        "num = data[features]\n",
        "num_data =  num.loc[:, num.columns!='realisasi_hibah_2020']\n",
        "print(num_data.head())\n",
        "print(num_data.shape)"
      ],
      "metadata": {
        "colab": {
          "base_uri": "https://localhost:8080/"
        },
        "id": "ahsvyjBRi200",
        "outputId": "2dcf7b3b-d6ae-4a6d-8464-2ef9f3ea94cb"
      },
      "execution_count": null,
      "outputs": [
        {
          "output_type": "stream",
          "name": "stdout",
          "text": [
            "    penyerapan_hibah_2019  penyerapan_hibah_2020  alokasi_hibah_2021  \\\n",
            "2                   97.01                  97.37          8244352000   \n",
            "9                   76.53                  51.97         11834328000   \n",
            "10                   0.00                  31.30          4122896000   \n",
            "12                  80.85                  94.98         16681474000   \n",
            "23                  35.50                  92.24         11096797000   \n",
            "\n",
            "    A2021_MIN_A2020  \n",
            "2             -6.02  \n",
            "9             34.15  \n",
            "10           512.41  \n",
            "12           171.06  \n",
            "23             5.49  \n",
            "(111, 4)\n"
          ]
        }
      ]
    },
    {
      "cell_type": "code",
      "source": [
        "# Checking for null values\n",
        "data.isnull().sum()"
      ],
      "metadata": {
        "colab": {
          "base_uri": "https://localhost:8080/"
        },
        "id": "9WaxYV6HLan9",
        "outputId": "bc7ed7d4-10fa-4161-c384-c6e5e14029fa"
      },
      "execution_count": null,
      "outputs": [
        {
          "output_type": "execute_result",
          "data": {
            "text/plain": [
              "daerah                    0\n",
              "lahan_2020               46\n",
              "realisasi_belanja2020     0\n",
              "kfd_category              0\n",
              "kfd                       0\n",
              "anggaran_belanja2021      0\n",
              "realiasasi_dak2021        0\n",
              "penyerapan_hibah_2019     0\n",
              "penyerapan_hibah_2020     0\n",
              "realisasi_hibah_2020      0\n",
              "alokasi_hibah_2021        0\n",
              "A2021_MIN_A2020           0\n",
              "ikp2021                   0\n",
              "ikp2020                   0\n",
              "ikp_growth                0\n",
              "dtype: int64"
            ]
          },
          "metadata": {},
          "execution_count": 39
        }
      ]
    },
    {
      "cell_type": "code",
      "source": [
        "#Standardize data\n",
        "ss = StandardScaler()\n",
        "n_data = ss.fit_transform(num_data)\n",
        "dataframe = pd.DataFrame(n_data, columns = num_data.columns)\n",
        "print(dataframe.head())"
      ],
      "metadata": {
        "colab": {
          "base_uri": "https://localhost:8080/"
        },
        "id": "XXdERmw3i25W",
        "outputId": "86ab1dbd-405b-47fd-a029-8e0e9573900b"
      },
      "execution_count": null,
      "outputs": [
        {
          "output_type": "stream",
          "name": "stdout",
          "text": [
            "   penyerapan_hibah_2019  penyerapan_hibah_2020  alokasi_hibah_2021  \\\n",
            "0               1.143940               1.265385           -0.280804   \n",
            "1               0.531804              -0.225576            0.235138   \n",
            "2              -1.755637              -0.904390           -0.873130   \n",
            "3               0.660926               1.186896            0.931758   \n",
            "4              -0.694561               1.096913            0.129142   \n",
            "\n",
            "   A2021_MIN_A2020  \n",
            "0        -0.513625  \n",
            "1        -0.413401  \n",
            "2         0.779857  \n",
            "3        -0.071810  \n",
            "4        -0.484907  \n"
          ]
        }
      ]
    },
    {
      "cell_type": "code",
      "source": [
        "data.describe()"
      ],
      "metadata": {
        "colab": {
          "base_uri": "https://localhost:8080/",
          "height": 364
        },
        "id": "4pNkaly96XjX",
        "outputId": "b39fc9e9-79a2-475a-bf98-2c8a74134906"
      },
      "execution_count": null,
      "outputs": [
        {
          "output_type": "execute_result",
          "data": {
            "text/plain": [
              "          lahan_2020  realisasi_belanja2020  kfd_category         kfd  \\\n",
              "count      65.000000           1.110000e+02    111.000000  111.000000   \n",
              "mean    53620.061538           1.073965e+16      2.927928    0.968514   \n",
              "std     46925.862266           1.822745e+16      1.203870    0.568554   \n",
              "min      4034.000000           0.000000e+00      1.000000    0.294000   \n",
              "25%     19204.000000           0.000000e+00      2.000000    0.541000   \n",
              "50%     36556.000000           3.010000e+15      3.000000    0.836000   \n",
              "75%     74313.000000           1.560000e+16      4.000000    1.272500   \n",
              "max    226182.000000           1.240000e+17      5.000000    2.652000   \n",
              "\n",
              "       anggaran_belanja2021  realiasasi_dak2021  penyerapan_hibah_2019  \\\n",
              "count          1.110000e+02        1.110000e+02             111.000000   \n",
              "mean           1.065794e+15        1.015223e+09              58.737658   \n",
              "std            5.142464e+15        1.059724e+09              33.608334   \n",
              "min            0.000000e+00        0.000000e+00               0.000000   \n",
              "25%            1.613897e+09        2.800000e+08              37.280000   \n",
              "50%            3.087141e+10        8.178388e+08              66.830000   \n",
              "75%            4.488345e+10        1.453250e+09              89.245000   \n",
              "max            3.250000e+16        6.735289e+09              99.770000   \n",
              "\n",
              "       penyerapan_hibah_2020  realisasi_hibah_2020  alokasi_hibah_2021  \\\n",
              "count             111.000000          1.110000e+02        1.110000e+02   \n",
              "mean               58.838829          4.239220e+09        1.019821e+10   \n",
              "std                30.588255          4.608310e+09        6.989651e+09   \n",
              "min                 0.000000          0.000000e+00        1.139180e+09   \n",
              "25%                36.920000          7.971177e+08        6.118478e+09   \n",
              "50%                65.550000          2.756580e+09        8.279498e+09   \n",
              "75%                83.800000          5.890027e+09        1.195406e+10   \n",
              "max               100.000000          2.144959e+10        3.768875e+10   \n",
              "\n",
              "       A2021_MIN_A2020     ikp2021     ikp2020  ikp_growth    clusters  \n",
              "count       111.000000  111.000000  111.000000  111.000000  111.000000  \n",
              "mean        199.841712   78.560631   78.503874    0.056757    1.513514  \n",
              "std         402.619575    5.210987    5.015874    1.589463    1.656200  \n",
              "min         -80.900000   61.740000   65.580000   -4.660000    0.000000  \n",
              "25%          -5.460000   75.700000   75.075000   -0.820000    0.000000  \n",
              "50%          74.750000   79.330000   79.500000    0.190000    1.000000  \n",
              "75%         215.295000   81.695000   82.240000    0.855000    3.000000  \n",
              "max        2494.740000   95.150000   88.250000    9.770000    4.000000  "
            ],
            "text/html": [
              "\n",
              "  <div id=\"df-2f295f2a-2c80-4445-8eba-211f48898941\">\n",
              "    <div class=\"colab-df-container\">\n",
              "      <div>\n",
              "<style scoped>\n",
              "    .dataframe tbody tr th:only-of-type {\n",
              "        vertical-align: middle;\n",
              "    }\n",
              "\n",
              "    .dataframe tbody tr th {\n",
              "        vertical-align: top;\n",
              "    }\n",
              "\n",
              "    .dataframe thead th {\n",
              "        text-align: right;\n",
              "    }\n",
              "</style>\n",
              "<table border=\"1\" class=\"dataframe\">\n",
              "  <thead>\n",
              "    <tr style=\"text-align: right;\">\n",
              "      <th></th>\n",
              "      <th>lahan_2020</th>\n",
              "      <th>realisasi_belanja2020</th>\n",
              "      <th>kfd_category</th>\n",
              "      <th>kfd</th>\n",
              "      <th>anggaran_belanja2021</th>\n",
              "      <th>realiasasi_dak2021</th>\n",
              "      <th>penyerapan_hibah_2019</th>\n",
              "      <th>penyerapan_hibah_2020</th>\n",
              "      <th>realisasi_hibah_2020</th>\n",
              "      <th>alokasi_hibah_2021</th>\n",
              "      <th>A2021_MIN_A2020</th>\n",
              "      <th>ikp2021</th>\n",
              "      <th>ikp2020</th>\n",
              "      <th>ikp_growth</th>\n",
              "      <th>clusters</th>\n",
              "    </tr>\n",
              "  </thead>\n",
              "  <tbody>\n",
              "    <tr>\n",
              "      <th>count</th>\n",
              "      <td>65.000000</td>\n",
              "      <td>1.110000e+02</td>\n",
              "      <td>111.000000</td>\n",
              "      <td>111.000000</td>\n",
              "      <td>1.110000e+02</td>\n",
              "      <td>1.110000e+02</td>\n",
              "      <td>111.000000</td>\n",
              "      <td>111.000000</td>\n",
              "      <td>1.110000e+02</td>\n",
              "      <td>1.110000e+02</td>\n",
              "      <td>111.000000</td>\n",
              "      <td>111.000000</td>\n",
              "      <td>111.000000</td>\n",
              "      <td>111.000000</td>\n",
              "      <td>111.000000</td>\n",
              "    </tr>\n",
              "    <tr>\n",
              "      <th>mean</th>\n",
              "      <td>53620.061538</td>\n",
              "      <td>1.073965e+16</td>\n",
              "      <td>2.927928</td>\n",
              "      <td>0.968514</td>\n",
              "      <td>1.065794e+15</td>\n",
              "      <td>1.015223e+09</td>\n",
              "      <td>58.737658</td>\n",
              "      <td>58.838829</td>\n",
              "      <td>4.239220e+09</td>\n",
              "      <td>1.019821e+10</td>\n",
              "      <td>199.841712</td>\n",
              "      <td>78.560631</td>\n",
              "      <td>78.503874</td>\n",
              "      <td>0.056757</td>\n",
              "      <td>1.513514</td>\n",
              "    </tr>\n",
              "    <tr>\n",
              "      <th>std</th>\n",
              "      <td>46925.862266</td>\n",
              "      <td>1.822745e+16</td>\n",
              "      <td>1.203870</td>\n",
              "      <td>0.568554</td>\n",
              "      <td>5.142464e+15</td>\n",
              "      <td>1.059724e+09</td>\n",
              "      <td>33.608334</td>\n",
              "      <td>30.588255</td>\n",
              "      <td>4.608310e+09</td>\n",
              "      <td>6.989651e+09</td>\n",
              "      <td>402.619575</td>\n",
              "      <td>5.210987</td>\n",
              "      <td>5.015874</td>\n",
              "      <td>1.589463</td>\n",
              "      <td>1.656200</td>\n",
              "    </tr>\n",
              "    <tr>\n",
              "      <th>min</th>\n",
              "      <td>4034.000000</td>\n",
              "      <td>0.000000e+00</td>\n",
              "      <td>1.000000</td>\n",
              "      <td>0.294000</td>\n",
              "      <td>0.000000e+00</td>\n",
              "      <td>0.000000e+00</td>\n",
              "      <td>0.000000</td>\n",
              "      <td>0.000000</td>\n",
              "      <td>0.000000e+00</td>\n",
              "      <td>1.139180e+09</td>\n",
              "      <td>-80.900000</td>\n",
              "      <td>61.740000</td>\n",
              "      <td>65.580000</td>\n",
              "      <td>-4.660000</td>\n",
              "      <td>0.000000</td>\n",
              "    </tr>\n",
              "    <tr>\n",
              "      <th>25%</th>\n",
              "      <td>19204.000000</td>\n",
              "      <td>0.000000e+00</td>\n",
              "      <td>2.000000</td>\n",
              "      <td>0.541000</td>\n",
              "      <td>1.613897e+09</td>\n",
              "      <td>2.800000e+08</td>\n",
              "      <td>37.280000</td>\n",
              "      <td>36.920000</td>\n",
              "      <td>7.971177e+08</td>\n",
              "      <td>6.118478e+09</td>\n",
              "      <td>-5.460000</td>\n",
              "      <td>75.700000</td>\n",
              "      <td>75.075000</td>\n",
              "      <td>-0.820000</td>\n",
              "      <td>0.000000</td>\n",
              "    </tr>\n",
              "    <tr>\n",
              "      <th>50%</th>\n",
              "      <td>36556.000000</td>\n",
              "      <td>3.010000e+15</td>\n",
              "      <td>3.000000</td>\n",
              "      <td>0.836000</td>\n",
              "      <td>3.087141e+10</td>\n",
              "      <td>8.178388e+08</td>\n",
              "      <td>66.830000</td>\n",
              "      <td>65.550000</td>\n",
              "      <td>2.756580e+09</td>\n",
              "      <td>8.279498e+09</td>\n",
              "      <td>74.750000</td>\n",
              "      <td>79.330000</td>\n",
              "      <td>79.500000</td>\n",
              "      <td>0.190000</td>\n",
              "      <td>1.000000</td>\n",
              "    </tr>\n",
              "    <tr>\n",
              "      <th>75%</th>\n",
              "      <td>74313.000000</td>\n",
              "      <td>1.560000e+16</td>\n",
              "      <td>4.000000</td>\n",
              "      <td>1.272500</td>\n",
              "      <td>4.488345e+10</td>\n",
              "      <td>1.453250e+09</td>\n",
              "      <td>89.245000</td>\n",
              "      <td>83.800000</td>\n",
              "      <td>5.890027e+09</td>\n",
              "      <td>1.195406e+10</td>\n",
              "      <td>215.295000</td>\n",
              "      <td>81.695000</td>\n",
              "      <td>82.240000</td>\n",
              "      <td>0.855000</td>\n",
              "      <td>3.000000</td>\n",
              "    </tr>\n",
              "    <tr>\n",
              "      <th>max</th>\n",
              "      <td>226182.000000</td>\n",
              "      <td>1.240000e+17</td>\n",
              "      <td>5.000000</td>\n",
              "      <td>2.652000</td>\n",
              "      <td>3.250000e+16</td>\n",
              "      <td>6.735289e+09</td>\n",
              "      <td>99.770000</td>\n",
              "      <td>100.000000</td>\n",
              "      <td>2.144959e+10</td>\n",
              "      <td>3.768875e+10</td>\n",
              "      <td>2494.740000</td>\n",
              "      <td>95.150000</td>\n",
              "      <td>88.250000</td>\n",
              "      <td>9.770000</td>\n",
              "      <td>4.000000</td>\n",
              "    </tr>\n",
              "  </tbody>\n",
              "</table>\n",
              "</div>\n",
              "      <button class=\"colab-df-convert\" onclick=\"convertToInteractive('df-2f295f2a-2c80-4445-8eba-211f48898941')\"\n",
              "              title=\"Convert this dataframe to an interactive table.\"\n",
              "              style=\"display:none;\">\n",
              "        \n",
              "  <svg xmlns=\"http://www.w3.org/2000/svg\" height=\"24px\"viewBox=\"0 0 24 24\"\n",
              "       width=\"24px\">\n",
              "    <path d=\"M0 0h24v24H0V0z\" fill=\"none\"/>\n",
              "    <path d=\"M18.56 5.44l.94 2.06.94-2.06 2.06-.94-2.06-.94-.94-2.06-.94 2.06-2.06.94zm-11 1L8.5 8.5l.94-2.06 2.06-.94-2.06-.94L8.5 2.5l-.94 2.06-2.06.94zm10 10l.94 2.06.94-2.06 2.06-.94-2.06-.94-.94-2.06-.94 2.06-2.06.94z\"/><path d=\"M17.41 7.96l-1.37-1.37c-.4-.4-.92-.59-1.43-.59-.52 0-1.04.2-1.43.59L10.3 9.45l-7.72 7.72c-.78.78-.78 2.05 0 2.83L4 21.41c.39.39.9.59 1.41.59.51 0 1.02-.2 1.41-.59l7.78-7.78 2.81-2.81c.8-.78.8-2.07 0-2.86zM5.41 20L4 18.59l7.72-7.72 1.47 1.35L5.41 20z\"/>\n",
              "  </svg>\n",
              "      </button>\n",
              "      \n",
              "  <style>\n",
              "    .colab-df-container {\n",
              "      display:flex;\n",
              "      flex-wrap:wrap;\n",
              "      gap: 12px;\n",
              "    }\n",
              "\n",
              "    .colab-df-convert {\n",
              "      background-color: #E8F0FE;\n",
              "      border: none;\n",
              "      border-radius: 50%;\n",
              "      cursor: pointer;\n",
              "      display: none;\n",
              "      fill: #1967D2;\n",
              "      height: 32px;\n",
              "      padding: 0 0 0 0;\n",
              "      width: 32px;\n",
              "    }\n",
              "\n",
              "    .colab-df-convert:hover {\n",
              "      background-color: #E2EBFA;\n",
              "      box-shadow: 0px 1px 2px rgba(60, 64, 67, 0.3), 0px 1px 3px 1px rgba(60, 64, 67, 0.15);\n",
              "      fill: #174EA6;\n",
              "    }\n",
              "\n",
              "    [theme=dark] .colab-df-convert {\n",
              "      background-color: #3B4455;\n",
              "      fill: #D2E3FC;\n",
              "    }\n",
              "\n",
              "    [theme=dark] .colab-df-convert:hover {\n",
              "      background-color: #434B5C;\n",
              "      box-shadow: 0px 1px 3px 1px rgba(0, 0, 0, 0.15);\n",
              "      filter: drop-shadow(0px 1px 2px rgba(0, 0, 0, 0.3));\n",
              "      fill: #FFFFFF;\n",
              "    }\n",
              "  </style>\n",
              "\n",
              "      <script>\n",
              "        const buttonEl =\n",
              "          document.querySelector('#df-2f295f2a-2c80-4445-8eba-211f48898941 button.colab-df-convert');\n",
              "        buttonEl.style.display =\n",
              "          google.colab.kernel.accessAllowed ? 'block' : 'none';\n",
              "\n",
              "        async function convertToInteractive(key) {\n",
              "          const element = document.querySelector('#df-2f295f2a-2c80-4445-8eba-211f48898941');\n",
              "          const dataTable =\n",
              "            await google.colab.kernel.invokeFunction('convertToInteractive',\n",
              "                                                     [key], {});\n",
              "          if (!dataTable) return;\n",
              "\n",
              "          const docLinkHtml = 'Like what you see? Visit the ' +\n",
              "            '<a target=\"_blank\" href=https://colab.research.google.com/notebooks/data_table.ipynb>data table notebook</a>'\n",
              "            + ' to learn more about interactive tables.';\n",
              "          element.innerHTML = '';\n",
              "          dataTable['output_type'] = 'display_data';\n",
              "          await google.colab.output.renderOutput(dataTable, element);\n",
              "          const docLink = document.createElement('div');\n",
              "          docLink.innerHTML = docLinkHtml;\n",
              "          element.appendChild(docLink);\n",
              "        }\n",
              "      </script>\n",
              "    </div>\n",
              "  </div>\n",
              "  "
            ]
          },
          "metadata": {},
          "execution_count": 46
        }
      ]
    },
    {
      "cell_type": "markdown",
      "source": [
        "Checking for multicollinearity"
      ],
      "metadata": {
        "id": "_YlZCEM1jBqU"
      }
    },
    {
      "cell_type": "code",
      "source": [
        "#title Default title text\n",
        "from statsmodels.stats.outliers_influence import variance_inflation_factor\n",
        "  \n",
        "# the independent variables set \n",
        "X = dataframe[['penyerapan_hibah_2019', 'penyerapan_hibah_2020', 'alokasi_hibah_2021', 'A2021_MIN_A2020']]\n",
        "# VIF dataframe\n",
        "vif_data = pd.DataFrame()\n",
        "vif_data[\"feature\"] = dataframe.columns\n",
        "  \n",
        "# calculating VIF for each feature\n",
        "vif_data[\"VIF\"] = [variance_inflation_factor(X.values, i)\n",
        "                          for i in range(len(X.columns))]\n",
        "print(vif_data)"
      ],
      "metadata": {
        "colab": {
          "base_uri": "https://localhost:8080/"
        },
        "id": "JBiT311ai8SU",
        "outputId": "ebec6d04-0096-4960-b05c-b7604c9eb505",
        "cellView": "code"
      },
      "execution_count": null,
      "outputs": [
        {
          "output_type": "stream",
          "name": "stdout",
          "text": [
            "                 feature       VIF\n",
            "0  penyerapan_hibah_2019  1.817431\n",
            "1  penyerapan_hibah_2020  1.855061\n",
            "2     alokasi_hibah_2021  1.118942\n",
            "3        A2021_MIN_A2020  1.109377\n"
          ]
        }
      ]
    },
    {
      "cell_type": "markdown",
      "source": [
        "K-Means Clustering"
      ],
      "metadata": {
        "id": "5hHXiCjhjQ25"
      }
    },
    {
      "cell_type": "code",
      "source": [
        "# Using elbow method to find out the best number of clusters\n",
        "model = KMeans(random_state=42)\n",
        "\n",
        "elb_visualizer = KElbowVisualizer(model, k=(2,11))\n",
        "elb_visualizer.fit(X)    \n",
        "elb_visualizer.show()"
      ],
      "metadata": {
        "colab": {
          "base_uri": "https://localhost:8080/",
          "height": 394
        },
        "id": "Zgh3Dm_pQiys",
        "outputId": "feeb36ac-ba4f-4693-be25-afee6d48f71c"
      },
      "execution_count": null,
      "outputs": [
        {
          "output_type": "display_data",
          "data": {
            "text/plain": [
              "<Figure size 576x396 with 2 Axes>"
            ],
            "image/png": "[encoded data removed]"
          },
          "metadata": {}
        },
        {
          "output_type": "execute_result",
          "data": {
            "text/plain": [
              "<matplotlib.axes._subplots.AxesSubplot at 0x7f311c6dee10>"
            ]
          },
          "metadata": {},
          "execution_count": 42
        }
      ]
    },
    {
      "cell_type": "code",
      "source": [
        "# Using sillhouette method to find out the best number of clusters\n",
        "model_4clust = KMeans(n_clusters = 5, random_state=42)\n",
        "\n",
        "sil_visualizer = SilhouetteVisualizer(model_4clust)\n",
        "sil_visualizer.fit(X)    \n",
        "sil_visualizer.show()"
      ],
      "metadata": {
        "colab": {
          "base_uri": "https://localhost:8080/",
          "height": 394
        },
        "id": "Mk9ErHkPQ500",
        "outputId": "3747b1a3-27af-4324-c66f-95efb93247ae"
      },
      "execution_count": null,
      "outputs": [
        {
          "output_type": "display_data",
          "data": {
            "text/plain": [
              "<Figure size 576x396 with 1 Axes>"
            ],
            "image/png": "[encoded data removed]"
          },
          "metadata": {}
        },
        {
          "output_type": "execute_result",
          "data": {
            "text/plain": [
              "<matplotlib.axes._subplots.AxesSubplot at 0x7f311c8ac710>"
            ]
          },
          "metadata": {},
          "execution_count": 24
        }
      ]
    },
    {
      "cell_type": "code",
      "source": [
        "# Running K-means Clustering into dataset\n",
        "kmeans = KMeans(n_clusters = 5, init='k-means++', random_state=42)\n",
        "data['clusters'] = kmeans.fit_predict(dataframe)\n",
        "\n",
        "y = data['clusters']\n",
        "print(data)"
      ],
      "metadata": {
        "colab": {
          "base_uri": "https://localhost:8080/"
        },
        "id": "5mX5rkbRi8eN",
        "outputId": "1d68191b-aa29-4779-e271-15f376aa89f1"
      },
      "execution_count": null,
      "outputs": [
        {
          "output_type": "stream",
          "name": "stdout",
          "text": [
            "                      daerah  lahan_2020  realisasi_belanja2020  kfd_category  \\\n",
            "2            Kab. Aceh Besar         NaN           2.000000e+16             3   \n",
            "9            Kab. Aceh Timur         NaN           0.000000e+00             3   \n",
            "10           Kab. Aceh Utara         NaN           1.130000e+16             3   \n",
            "12              Kab. Bireuen         NaN           1.700000e+16             3   \n",
            "23             Provinsi Aceh         NaN           1.220000e+17             2   \n",
            "..                       ...         ...                    ...           ...   \n",
            "508              Kab. Asahan     10701.0           1.250000e+16             3   \n",
            "512  Kab. Humbang Hasundutan     12772.0           8.030141e+10             1   \n",
            "528          Kab. Simalungun     34685.0           9.796576e+10             4   \n",
            "530     Kab. Tapanuli Tengah     12083.0           6.182533e+10             2   \n",
            "541  Provinsi Sumatera Utara         NaN           0.000000e+00             2   \n",
            "\n",
            "       kfd  anggaran_belanja2021  realiasasi_dak2021  penyerapan_hibah_2019  \\\n",
            "2    0.986          6.357995e+10          1767480500                  97.01   \n",
            "9    0.836          0.000000e+00          1891704250                  76.53   \n",
            "10   1.015          4.344327e+10          1831875000                   0.00   \n",
            "12   0.928          3.707185e+10           332125000                  80.85   \n",
            "23   0.303          2.570000e+16                   0                  35.50   \n",
            "..     ...                   ...                 ...                    ...   \n",
            "508  1.024          3.087141e+10           167375000                  90.33   \n",
            "512  0.453          3.626732e+10           121250000                  91.03   \n",
            "528  1.084          3.026204e+10           918431250                  39.56   \n",
            "530  0.594          9.741585e+09           116125000                  68.95   \n",
            "541  0.294          0.000000e+00                   0                  96.12   \n",
            "\n",
            "     penyerapan_hibah_2020  realisasi_hibah_2020  alokasi_hibah_2021  \\\n",
            "2                    97.37            8541595920          8244352000   \n",
            "9                    51.97            4584510994         11834328000   \n",
            "10                   31.30             210691469          4122896000   \n",
            "12                   94.98            5845413982         16681474000   \n",
            "23                   92.24            9702763713         11096797000   \n",
            "..                     ...                   ...                 ...   \n",
            "508                  99.89            5334849650          3676203000   \n",
            "512                  92.42            2756579933          7909622000   \n",
            "528                  72.85            2317314529          6259780000   \n",
            "530                  81.95            3612889855          7009279000   \n",
            "541                  48.14           18870037351          7488570000   \n",
            "\n",
            "     A2021_MIN_A2020  ikp2021  ikp2020  ikp_growth  clusters  \n",
            "2              -6.02    83.09    83.99       -0.90         0  \n",
            "9              34.15    76.08    74.10        1.98         3  \n",
            "10            512.41    77.38    76.20        1.18         4  \n",
            "12            171.06    80.29    79.43        0.86         3  \n",
            "23              5.49    71.63    70.92        0.71         0  \n",
            "..               ...      ...      ...         ...       ...  \n",
            "508           -31.16    74.10    73.11        0.99         0  \n",
            "512           165.19    75.51    77.29       -1.78         0  \n",
            "528            96.79    81.77    80.34        1.43         0  \n",
            "530            58.99    70.19    70.13        0.06         0  \n",
            "541           -80.90    72.25    71.84        0.41         0  \n",
            "\n",
            "[111 rows x 16 columns]\n"
          ]
        }
      ]
    },
    {
      "cell_type": "markdown",
      "source": [
        "Run PCA on the data and reduce the dimensions in pca_num_components dimensions"
      ],
      "metadata": {
        "id": "5I2qNTVJjmrV"
      }
    },
    {
      "cell_type": "code",
      "source": [
        "pca_num_components = 2\n",
        "\n",
        "reduced_data = PCA(n_components=pca_num_components).fit_transform(dataframe)\n",
        "results = pd.DataFrame(reduced_data,columns=['pca1','pca2'])\n",
        "\n",
        "\n",
        "sns.scatterplot(x=\"pca1\", y=\"pca2\", hue=data['clusters'], data=results, palette='cool')\n",
        "plt.title('K-means Clustering with 2 dimensions using PCA')\n",
        "plt.show()"
      ],
      "metadata": {
        "id": "DdaQpB9Yi8jA"
      },
      "execution_count": null,
      "outputs": []
    },
    {
      "cell_type": "code",
      "source": [
        "kmeans.fit(reduced_data)\n",
        "\n",
        "# Step size of the mesh. Decrease to increase the quality of the VQ.\n",
        "h = 0.01  # point in the mesh [x_min, x_max]x[y_min, y_max].\n",
        "\n",
        "# Plot the decision boundary and assign a color to each\n",
        "x_min, x_max = reduced_data[:, 0].min() - 1, reduced_data[:, 0].max() + 1\n",
        "y_min, y_max = reduced_data[:, 1].min() - 1, reduced_data[:, 1].max() + 1\n",
        "xx, yy = np.meshgrid(np.arange(x_min, x_max, h), np.arange(y_min, y_max, h))\n",
        "\n",
        "# Obtain labels for each point in mesh. Use last trained model.\n",
        "Z = kmeans.predict(np.c_[xx.ravel(), yy.ravel()])\n",
        "\n",
        "# Put the result into a color plot\n",
        "Z = Z.reshape(xx.shape)\n",
        "plt.figure(1)\n",
        "plt.clf()\n",
        "plt.imshow(\n",
        "    Z,\n",
        "    interpolation=\"nearest\",\n",
        "    extent=(xx.min(), xx.max(), yy.min(), yy.max()),\n",
        "    cmap=plt.cm.Paired,\n",
        "    aspect=\"auto\",\n",
        "    origin=\"lower\",\n",
        ")\n",
        "\n",
        "plt.plot(reduced_data[:, 0], reduced_data[:, 1], \"k.\", markersize=2)\n",
        "# Plot the centroids as a white X\n",
        "centroids = kmeans.cluster_centers_\n",
        "plt.scatter(\n",
        "    centroids[:, 0],\n",
        "    centroids[:, 1],\n",
        "    marker=\"x\",\n",
        "    s=169,\n",
        "    linewidths=3,\n",
        "    color=\"w\",\n",
        "    zorder=10,\n",
        ")\n",
        "plt.title(\n",
        "    \"K-means clustering on the digits dataset (PCA-reduced data)\\n\"\n",
        "    \"Centroids are marked with white cross\"\n",
        ")\n",
        "plt.xlim(x_min, x_max)\n",
        "plt.ylim(y_min, y_max)\n",
        "plt.xticks(())\n",
        "plt.yticks(())\n",
        "plt.show()"
      ],
      "metadata": {
        "colab": {
          "base_uri": "https://localhost:8080/",
          "height": 359
        },
        "id": "YRDblTPui8m_",
        "outputId": "a3653264-6b02-4f38-ac72-41da30925dcb"
      },
      "execution_count": null,
      "outputs": [
        {
          "output_type": "display_data",
          "data": {
            "text/plain": [
              "<Figure size 576x396 with 1 Axes>"
            ],
            "image/png": "[encoded data removed]"
          },
          "metadata": {}
        }
      ]
    },
    {
      "cell_type": "code",
      "source": [
        "#Parallel Coordinates Plot to Visualize Clustering Result\n",
        "import plotly.graph_objects as go\n",
        "\n",
        "fig = go.Figure(data =\n",
        "    go.Parcoords(line = dict(color = data['clusters'], colorscale=[\"red\", \"orange\", \"blue\", \"magenta\", \"green\"]),\n",
        "        dimensions = list([\n",
        "            #dict(range = [0,1], label = 'KFD',  values = data['kfd']),\n",
        "            #dict(range = [0,326000000000], label = 'A_BD2021', values = data['anggaran_belanja2021']),\n",
        "            #dict(range = [0,2300000000], label = 'RDAK2021', values = data['realiasasi_dak2021']),\n",
        "            dict(range = [0,100], label = 'serap_Hibah19', values = data['penyerapan_hibah_2019']),\n",
        "            dict(range = [0,100], label = 'serap_Hibah20', values = data['penyerapan_hibah_2020']),\n",
        "            dict(range = [1139180000,37688754000],\n",
        "                label = 'A_Hibah21', values = data['alokasi_hibah_2021']),\n",
        "            dict(range = [-80,2500], label = 'A2021-A2020', values = data['A2021_MIN_A2020'])\n",
        "        ])\n",
        "    )\n",
        ")\n",
        "\n",
        "fig.update_layout(\n",
        "    plot_bgcolor = 'white',\n",
        "    paper_bgcolor = 'white',\n",
        "    font_size=18\n",
        ")\n",
        "\n",
        "fig.show()"
      ],
      "metadata": {
        "id": "hGJtbGqhS5Ez",
        "colab": {
          "base_uri": "https://localhost:8080/",
          "height": 542
        },
        "outputId": "de411172-a1bd-4b47-ad7a-3074fb0e07e5"
      },
      "execution_count": null,
      "outputs": [
        {
          "output_type": "display_data",
          "data": {
            "text/html": [
              "<html>\n",
              "<head><meta charset=\"utf-8\" /></head>\n",
              "<body>\n",
              "    <div>            <script src=\"https://cdnjs.cloudflare.com/ajax/libs/mathjax/2.7.5/MathJax.js?config=TeX-AMS-MML_SVG\"></script><script type=\"text/javascript\">if (window.MathJax) {MathJax.Hub.Config({SVG: {font: \"STIX-Web\"}});}</script>                <script type=\"text/javascript\">window.PlotlyConfig = {MathJaxConfig: 'local'};</script>\n",
              "        <script src=\"https://cdn.plot.ly/plotly-2.8.3.min.js\"></script>                <div id=\"531efc81-5d5e-439b-8d91-e4739847b00a\" class=\"plotly-graph-div\" style=\"height:525px; width:100%;\"></div>            <script type=\"text/javascript\">                                    window.PLOTLYENV=window.PLOTLYENV || {};                                    if (document.getElementById(\"531efc81-5d5e-439b-8d91-e4739847b00a\")) {                    Plotly.newPlot(                        \"531efc81-5d5e-439b-8d91-e4739847b00a\",                        [{\"dimensions\":[{\"label\":\"serap_Hibah19\",\"range\":[0,100],\"values\":[97.01,76.53,0.0,80.85,35.5,0.0,95.32,52.09,91.36,84.62,36.51,88.16,69.47,99.77,97.87,13.71,99.1,0.0,0.0,0.0,0.0,14.49,41.93,66.83,52.37,0.0,0.0,0.0,83.28,0.0,70.66,45.32,57.1,28.46,69.24,97.37,92.22,0.0,0.0,0.0,58.69,77.66,79.01,86.43,86.91,63.3,50.93,77.99,93.96,54.2,79.43,53.74,0.0,64.35,46.47,99.18,38.05,6.26,43.31,50.66,98.59,42.98,83.62,0.0,81.94,47.54,21.24,79.42,29.46,96.57,91.17,91.73,70.35,94.2,42.51,98.99,87.82,76.41,99.06,97.55,72.19,95.8,62.08,25.59,73.75,45.87,86.93,35.51,92.72,14.73,0.0,70.97,62.09,73.04,42.12,47.19,97.98,94.25,30.8,97.44,49.76,50.16,54.97,98.58,82.55,98.0,90.33,91.03,39.56,68.95,96.12]},{\"label\":\"serap_Hibah20\",\"range\":[0,100],\"values\":[97.37,51.97,31.3,94.98,92.24,0.0,35.45,89.87,43.48,50.91,100.0,96.52,70.36,81.81,39.14,7.95,93.39,0.0,78.1,55.33,0.0,29.17,43.64,76.53,62.54,0.0,0.0,12.97,77.59,0.0,47.09,64.16,28.07,39.03,83.32,89.8,35.04,0.0,0.0,0.0,74.42,76.06,85.05,56.09,65.55,54.0,75.26,38.08,89.07,63.38,96.2,62.81,0.0,35.76,85.42,82.42,46.06,57.65,15.87,53.39,96.48,32.02,71.24,0.0,34.16,72.24,72.94,71.83,9.2,91.0,32.89,96.64,95.83,94.67,82.32,65.68,96.85,88.51,84.38,80.31,73.26,84.28,78.25,31.9,79.54,71.52,95.36,47.54,68.98,58.6,0.0,25.03,77.3,54.23,56.19,65.26,91.23,71.68,40.95,31.01,69.3,90.98,49.04,95.36,59.75,88.47,99.89,92.42,72.85,81.95,48.14]},{\"label\":\"A_Hibah21\",\"range\":[1139180000,37688754000],\"values\":[8244352000,11834328000,4122896000,16681474000,11096797000,20547522000,7502322000,4023605000,11299355640,14488577440,6884066500,2240539000,10794937000,22220362000,5351232000,9705816000,7721612000,31815000000,8477055000,5977176000,8120000000,20957403000,20457073000,3642625000,7751119000,4229342000,24191423000,12510894000,2979439000,7003750000,6658847000,6820681000,5099965000,10680640000,9299160000,12384010000,9990693000,3000000000,6615379000,10167928000,8279498000,15495453000,6846080000,5370951000,10940277000,9102090735,1377644453,1279565867,6890968000,8735714000,11036424000,9722942000,18915019000,9172101000,2266780000,9628661000,17250260000,4971290000,7920144000,9816863000,8411185000,5093205000,37688754000,37162000000,14056169000,2200371700,1139180450,4511818000,8308451000,7866070360,3971797000,6864244040,4626693240,6571814000,3163747000,12902026000,4592785000,11794798000,22779038000,14984782440,5245633775,4434553000,14037376000,8114202400,13855137000,7000000000,5399486200,12073797221,1580493860,7765797000,27869494000,21535232000,15177476000,10698126000,8376651000,16542860000,8209942000,9757683000,7848478000,12128294000,11572266000,7926553000,6968949000,8853672000,11571197000,27817922000,3676203000,7909622000,6259780000,7009279000,7488570000]},{\"label\":\"A2021-A2020\",\"range\":[-80,2500],\"values\":[-6.02,34.15,512.41,171.06,5.49,100.0,97.06,-40.01,74.75,78.6,217.27,737.41,508.81,777.67,-29.35,-9.99,-40.01,100.0,299.41,433.95,100.0,515.0,2494.74,-3.91,-4.9,972.87,100.0,2260.91,272.7,100.0,708.15,168.69,593.71,19.3,-45.42,177.86,83.27,100.0,100.0,100.0,46.51,22.18,309.43,50.14,309.4,-23.44,40.74,-51.6,86.64,94.57,31.34,238.0,0.0,661.2,250.39,75.58,417.07,52.86,213.26,20.6,213.32,-64.82,985.11,100.0,-75.61,124.61,-63.82,13.37,73.91,20.62,-23.89,-23.56,-52.75,-35.45,-36.15,13.36,-70.43,3.14,75.26,47.16,-8.11,-2.23,32.35,-47.86,-40.91,-4.47,-44.11,173.46,5.57,1084.38,607.66,30.4,268.04,164.82,-43.86,328.0,-20.05,-15.42,1015.37,231.91,1250.49,30.07,110.73,-16.02,-35.3,14.73,-31.16,165.19,96.79,58.99,-80.9]}],\"line\":{\"color\":[0,3,4,3,0,1,0,0,3,3,0,0,3,3,0,4,0,1,4,4,4,1,2,0,0,4,1,2,0,4,0,0,4,4,0,3,3,4,4,4,0,3,0,0,3,0,0,0,0,0,0,0,1,4,0,0,3,4,4,0,0,4,3,1,3,0,0,0,4,0,0,0,0,0,0,3,0,0,3,3,0,0,3,4,3,0,0,4,0,2,1,3,3,3,0,3,0,0,2,3,2,0,0,0,3,3,0,0,0,0,0],\"colorscale\":[[0.0,\"red\"],[0.25,\"orange\"],[0.5,\"blue\"],[0.75,\"magenta\"],[1.0,\"green\"]]},\"type\":\"parcoords\"}],                        {\"template\":{\"data\":{\"bar\":[{\"error_x\":{\"color\":\"#2a3f5f\"},\"error_y\":{\"color\":\"#2a3f5f\"},\"marker\":{\"line\":{\"color\":\"#E5ECF6\",\"width\":0.5},\"pattern\":{\"fillmode\":\"overlay\",\"size\":10,\"solidity\":0.2}},\"type\":\"bar\"}],\"barpolar\":[{\"marker\":{\"line\":{\"color\":\"#E5ECF6\",\"width\":0.5},\"pattern\":{\"fillmode\":\"overlay\",\"size\":10,\"solidity\":0.2}},\"type\":\"barpolar\"}],\"carpet\":[{\"aaxis\":{\"endlinecolor\":\"#2a3f5f\",\"gridcolor\":\"white\",\"linecolor\":\"white\",\"minorgridcolor\":\"white\",\"startlinecolor\":\"#2a3f5f\"},\"baxis\":{\"endlinecolor\":\"#2a3f5f\",\"gridcolor\":\"white\",\"linecolor\":\"white\",\"minorgridcolor\":\"white\",\"startlinecolor\":\"#2a3f5f\"},\"type\":\"carpet\"}],\"choropleth\":[{\"colorbar\":{\"outlinewidth\":0,\"ticks\":\"\"},\"type\":\"choropleth\"}],\"contour\":[{\"colorbar\":{\"outlinewidth\":0,\"ticks\":\"\"},\"colorscale\":[[0.0,\"#0d0887\"],[0.1111111111111111,\"#46039f\"],[0.2222222222222222,\"#7201a8\"],[0.3333333333333333,\"#9c179e\"],[0.4444444444444444,\"#bd3786\"],[0.5555555555555556,\"#d8576b\"],[0.6666666666666666,\"#ed7953\"],[0.7777777777777778,\"#fb9f3a\"],[0.8888888888888888,\"#fdca26\"],[1.0,\"#f0f921\"]],\"type\":\"contour\"}],\"contourcarpet\":[{\"colorbar\":{\"outlinewidth\":0,\"ticks\":\"\"},\"type\":\"contourcarpet\"}],\"heatmap\":[{\"colorbar\":{\"outlinewidth\":0,\"ticks\":\"\"},\"colorscale\":[[0.0,\"#0d0887\"],[0.1111111111111111,\"#46039f\"],[0.2222222222222222,\"#7201a8\"],[0.3333333333333333,\"#9c179e\"],[0.4444444444444444,\"#bd3786\"],[0.5555555555555556,\"#d8576b\"],[0.6666666666666666,\"#ed7953\"],[0.7777777777777778,\"#fb9f3a\"],[0.8888888888888888,\"#fdca26\"],[1.0,\"#f0f921\"]],\"type\":\"heatmap\"}],\"heatmapgl\":[{\"colorbar\":{\"outlinewidth\":0,\"ticks\":\"\"},\"colorscale\":[[0.0,\"#0d0887\"],[0.1111111111111111,\"#46039f\"],[0.2222222222222222,\"#7201a8\"],[0.3333333333333333,\"#9c179e\"],[0.4444444444444444,\"#bd3786\"],[0.5555555555555556,\"#d8576b\"],[0.6666666666666666,\"#ed7953\"],[0.7777777777777778,\"#fb9f3a\"],[0.8888888888888888,\"#fdca26\"],[1.0,\"#f0f921\"]],\"type\":\"heatmapgl\"}],\"histogram\":[{\"marker\":{\"pattern\":{\"fillmode\":\"overlay\",\"size\":10,\"solidity\":0.2}},\"type\":\"histogram\"}],\"histogram2d\":[{\"colorbar\":{\"outlinewidth\":0,\"ticks\":\"\"},\"colorscale\":[[0.0,\"#0d0887\"],[0.1111111111111111,\"#46039f\"],[0.2222222222222222,\"#7201a8\"],[0.3333333333333333,\"#9c179e\"],[0.4444444444444444,\"#bd3786\"],[0.5555555555555556,\"#d8576b\"],[0.6666666666666666,\"#ed7953\"],[0.7777777777777778,\"#fb9f3a\"],[0.8888888888888888,\"#fdca26\"],[1.0,\"#f0f921\"]],\"type\":\"histogram2d\"}],\"histogram2dcontour\":[{\"colorbar\":{\"outlinewidth\":0,\"ticks\":\"\"},\"colorscale\":[[0.0,\"#0d0887\"],[0.1111111111111111,\"#46039f\"],[0.2222222222222222,\"#7201a8\"],[0.3333333333333333,\"#9c179e\"],[0.4444444444444444,\"#bd3786\"],[0.5555555555555556,\"#d8576b\"],[0.6666666666666666,\"#ed7953\"],[0.7777777777777778,\"#fb9f3a\"],[0.8888888888888888,\"#fdca26\"],[1.0,\"#f0f921\"]],\"type\":\"histogram2dcontour\"}],\"mesh3d\":[{\"colorbar\":{\"outlinewidth\":0,\"ticks\":\"\"},\"type\":\"mesh3d\"}],\"parcoords\":[{\"line\":{\"colorbar\":{\"outlinewidth\":0,\"ticks\":\"\"}},\"type\":\"parcoords\"}],\"pie\":[{\"automargin\":true,\"type\":\"pie\"}],\"scatter\":[{\"marker\":{\"colorbar\":{\"outlinewidth\":0,\"ticks\":\"\"}},\"type\":\"scatter\"}],\"scatter3d\":[{\"line\":{\"colorbar\":{\"outlinewidth\":0,\"ticks\":\"\"}},\"marker\":{\"colorbar\":{\"outlinewidth\":0,\"ticks\":\"\"}},\"type\":\"scatter3d\"}],\"scattercarpet\":[{\"marker\":{\"colorbar\":{\"outlinewidth\":0,\"ticks\":\"\"}},\"type\":\"scattercarpet\"}],\"scattergeo\":[{\"marker\":{\"colorbar\":{\"outlinewidth\":0,\"ticks\":\"\"}},\"type\":\"scattergeo\"}],\"scattergl\":[{\"marker\":{\"colorbar\":{\"outlinewidth\":0,\"ticks\":\"\"}},\"type\":\"scattergl\"}],\"scattermapbox\":[{\"marker\":{\"colorbar\":{\"outlinewidth\":0,\"ticks\":\"\"}},\"type\":\"scattermapbox\"}],\"scatterpolar\":[{\"marker\":{\"colorbar\":{\"outlinewidth\":0,\"ticks\":\"\"}},\"type\":\"scatterpolar\"}],\"scatterpolargl\":[{\"marker\":{\"colorbar\":{\"outlinewidth\":0,\"ticks\":\"\"}},\"type\":\"scatterpolargl\"}],\"scatterternary\":[{\"marker\":{\"colorbar\":{\"outlinewidth\":0,\"ticks\":\"\"}},\"type\":\"scatterternary\"}],\"surface\":[{\"colorbar\":{\"outlinewidth\":0,\"ticks\":\"\"},\"colorscale\":[[0.0,\"#0d0887\"],[0.1111111111111111,\"#46039f\"],[0.2222222222222222,\"#7201a8\"],[0.3333333333333333,\"#9c179e\"],[0.4444444444444444,\"#bd3786\"],[0.5555555555555556,\"#d8576b\"],[0.6666666666666666,\"#ed7953\"],[0.7777777777777778,\"#fb9f3a\"],[0.8888888888888888,\"#fdca26\"],[1.0,\"#f0f921\"]],\"type\":\"surface\"}],\"table\":[{\"cells\":{\"fill\":{\"color\":\"#EBF0F8\"},\"line\":{\"color\":\"white\"}},\"header\":{\"fill\":{\"color\":\"#C8D4E3\"},\"line\":{\"color\":\"white\"}},\"type\":\"table\"}]},\"layout\":{\"annotationdefaults\":{\"arrowcolor\":\"#2a3f5f\",\"arrowhead\":0,\"arrowwidth\":1},\"autotypenumbers\":\"strict\",\"coloraxis\":{\"colorbar\":{\"outlinewidth\":0,\"ticks\":\"\"}},\"colorscale\":{\"diverging\":[[0,\"#8e0152\"],[0.1,\"#c51b7d\"],[0.2,\"#de77ae\"],[0.3,\"#f1b6da\"],[0.4,\"#fde0ef\"],[0.5,\"#f7f7f7\"],[0.6,\"#e6f5d0\"],[0.7,\"#b8e186\"],[0.8,\"#7fbc41\"],[0.9,\"#4d9221\"],[1,\"#276419\"]],\"sequential\":[[0.0,\"#0d0887\"],[0.1111111111111111,\"#46039f\"],[0.2222222222222222,\"#7201a8\"],[0.3333333333333333,\"#9c179e\"],[0.4444444444444444,\"#bd3786\"],[0.5555555555555556,\"#d8576b\"],[0.6666666666666666,\"#ed7953\"],[0.7777777777777778,\"#fb9f3a\"],[0.8888888888888888,\"#fdca26\"],[1.0,\"#f0f921\"]],\"sequentialminus\":[[0.0,\"#0d0887\"],[0.1111111111111111,\"#46039f\"],[0.2222222222222222,\"#7201a8\"],[0.3333333333333333,\"#9c179e\"],[0.4444444444444444,\"#bd3786\"],[0.5555555555555556,\"#d8576b\"],[0.6666666666666666,\"#ed7953\"],[0.7777777777777778,\"#fb9f3a\"],[0.8888888888888888,\"#fdca26\"],[1.0,\"#f0f921\"]]},\"colorway\":[\"#636efa\",\"#EF553B\",\"#00cc96\",\"#ab63fa\",\"#FFA15A\",\"#19d3f3\",\"#FF6692\",\"#B6E880\",\"#FF97FF\",\"#FECB52\"],\"font\":{\"color\":\"#2a3f5f\"},\"geo\":{\"bgcolor\":\"white\",\"lakecolor\":\"white\",\"landcolor\":\"#E5ECF6\",\"showlakes\":true,\"showland\":true,\"subunitcolor\":\"white\"},\"hoverlabel\":{\"align\":\"left\"},\"hovermode\":\"closest\",\"mapbox\":{\"style\":\"light\"},\"paper_bgcolor\":\"white\",\"plot_bgcolor\":\"#E5ECF6\",\"polar\":{\"angularaxis\":{\"gridcolor\":\"white\",\"linecolor\":\"white\",\"ticks\":\"\"},\"bgcolor\":\"#E5ECF6\",\"radialaxis\":{\"gridcolor\":\"white\",\"linecolor\":\"white\",\"ticks\":\"\"}},\"scene\":{\"xaxis\":{\"backgroundcolor\":\"#E5ECF6\",\"gridcolor\":\"white\",\"gridwidth\":2,\"linecolor\":\"white\",\"showbackground\":true,\"ticks\":\"\",\"zerolinecolor\":\"white\"},\"yaxis\":{\"backgroundcolor\":\"#E5ECF6\",\"gridcolor\":\"white\",\"gridwidth\":2,\"linecolor\":\"white\",\"showbackground\":true,\"ticks\":\"\",\"zerolinecolor\":\"white\"},\"zaxis\":{\"backgroundcolor\":\"#E5ECF6\",\"gridcolor\":\"white\",\"gridwidth\":2,\"linecolor\":\"white\",\"showbackground\":true,\"ticks\":\"\",\"zerolinecolor\":\"white\"}},\"shapedefaults\":{\"line\":{\"color\":\"#2a3f5f\"}},\"ternary\":{\"aaxis\":{\"gridcolor\":\"white\",\"linecolor\":\"white\",\"ticks\":\"\"},\"baxis\":{\"gridcolor\":\"white\",\"linecolor\":\"white\",\"ticks\":\"\"},\"bgcolor\":\"#E5ECF6\",\"caxis\":{\"gridcolor\":\"white\",\"linecolor\":\"white\",\"ticks\":\"\"}},\"title\":{\"x\":0.05},\"xaxis\":{\"automargin\":true,\"gridcolor\":\"white\",\"linecolor\":\"white\",\"ticks\":\"\",\"title\":{\"standoff\":15},\"zerolinecolor\":\"white\",\"zerolinewidth\":2},\"yaxis\":{\"automargin\":true,\"gridcolor\":\"white\",\"linecolor\":\"white\",\"ticks\":\"\",\"title\":{\"standoff\":15},\"zerolinecolor\":\"white\",\"zerolinewidth\":2}}},\"font\":{\"size\":18},\"plot_bgcolor\":\"white\",\"paper_bgcolor\":\"white\"},                        {\"responsive\": true}                    ).then(function(){\n",
              "                            \n",
              "var gd = document.getElementById('531efc81-5d5e-439b-8d91-e4739847b00a');\n",
              "var x = new MutationObserver(function (mutations, observer) {{\n",
              "        var display = window.getComputedStyle(gd).display;\n",
              "        if (!display || display === 'none') {{\n",
              "            console.log([gd, 'removed!']);\n",
              "            Plotly.purge(gd);\n",
              "            observer.disconnect();\n",
              "        }}\n",
              "}});\n",
              "\n",
              "// Listen for the removal of the full notebook cells\n",
              "var notebookContainer = gd.closest('#notebook-container');\n",
              "if (notebookContainer) {{\n",
              "    x.observe(notebookContainer, {childList: true});\n",
              "}}\n",
              "\n",
              "// Listen for the clearing of the current output cell\n",
              "var outputEl = gd.closest('.output');\n",
              "if (outputEl) {{\n",
              "    x.observe(outputEl, {childList: true});\n",
              "}}\n",
              "\n",
              "                        })                };                            </script>        </div>\n",
              "</body>\n",
              "</html>"
            ]
          },
          "metadata": {}
        }
      ]
    },
    {
      "cell_type": "code",
      "source": [
        "g = sns.lmplot('penyerapan_hibah_2020', 'A2021_MIN_A2020', data=data,\n",
        "               markers=\"o\", scatter_kws=dict(color='c'))\n",
        "g.map(plt.axhline, y=0.1, color=\"k\", ls=\":\");"
      ],
      "metadata": {
        "colab": {
          "base_uri": "https://localhost:8080/",
          "height": 459
        },
        "id": "u3b3ZSLFyQFj",
        "outputId": "868bdb26-5b17-4092-aedc-0ae35d304b11"
      },
      "execution_count": null,
      "outputs": [
        {
          "output_type": "stream",
          "name": "stderr",
          "text": [
            "/usr/local/lib/python3.7/dist-packages/seaborn/_decorators.py:43: FutureWarning:\n",
            "\n",
            "Pass the following variables as keyword args: x, y. From version 0.12, the only valid positional argument will be `data`, and passing other arguments without an explicit keyword will result in an error or misinterpretation.\n",
            "\n"
          ]
        },
        {
          "output_type": "display_data",
          "data": {
            "text/plain": [
              "<Figure size 360x360 with 1 Axes>"
            ],
            "image/png": "[encoded data removed]"
          },
          "metadata": {}
        }
      ]
    },
    {
      "cell_type": "code",
      "source": [
        "sns.catplot(kind='box', data=data, \n",
        "            y='A2021_MIN_A2020', x='clusters', palette=\"colorblind\", sharey=True)\n",
        "plt.show()"
      ],
      "metadata": {
        "colab": {
          "base_uri": "https://localhost:8080/",
          "height": 365
        },
        "id": "RyDzSpH19LN6",
        "outputId": "494c26c6-a15f-4b69-e3f8-ef5db93862bc"
      },
      "execution_count": null,
      "outputs": [
        {
          "output_type": "display_data",
          "data": {
            "text/plain": [
              "<Figure size 360x360 with 1 Axes>"
            ],
            "image/png": "[encoded data removed]"
          },
          "metadata": {}
        }
      ]
    },
    {
      "cell_type": "code",
      "source": [
        "data.to_excel('cluster_skema2.xlsx', sheet_name='sheet1', index=True)"
      ],
      "metadata": {
        "id": "MDift-UiTMhT"
      },
      "execution_count": null,
      "outputs": []
    }
  ]
}